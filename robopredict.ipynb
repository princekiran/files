{
  "nbformat": 4,
  "nbformat_minor": 0,
  "metadata": {
    "colab": {
      "name": "robopredict.ipynb",
      "version": "0.3.2",
      "provenance": [],
      "include_colab_link": true
    },
    "kernelspec": {
      "name": "python3",
      "display_name": "Python 3"
    }
  },
  "cells": [
    {
      "cell_type": "markdown",
      "metadata": {
        "id": "view-in-github",
        "colab_type": "text"
      },
      "source": [
        "<a href=\"https://colab.research.google.com/github/princekiran/files/blob/master/robopredict.ipynb\" target=\"_parent\"><img src=\"https://colab.research.google.com/assets/colab-badge.svg\" alt=\"Open In Colab\"/></a>"
      ]
    },
    {
      "cell_type": "code",
      "metadata": {
        "id": "RJ4LCbWw3cZ0",
        "colab_type": "code",
        "colab": {}
      },
      "source": [
        "!pip install nsetools"
      ],
      "execution_count": 0,
      "outputs": []
    },
    {
      "cell_type": "code",
      "metadata": {
        "id": "WAtWu1Ac4L3e",
        "colab_type": "code",
        "colab": {}
      },
      "source": [
        "from nsetools import Nse\n",
        "from pprint import pprint as pp\n",
        "nse = Nse()"
      ],
      "execution_count": 0,
      "outputs": []
    },
    {
      "cell_type": "code",
      "metadata": {
        "id": "SpGh-ybs4bum",
        "colab_type": "code",
        "colab": {
          "base_uri": "https://localhost:8080/",
          "height": 1000
        },
        "outputId": "81f6ea08-7438-4b8f-a2a2-aea571bf8e3c"
      },
      "source": [
        "q = nse.get_quote('nmdc')\n",
        "\n",
        "pp(q)"
      ],
      "execution_count": 3,
      "outputs": [
        {
          "output_type": "stream",
          "text": [
            "{'adhocMargin': None,\n",
            " 'applicableMargin': 19.23,\n",
            " 'averagePrice': 79.59,\n",
            " 'basePrice': 80.5,\n",
            " 'bcEndDate': '30-AUG-19',\n",
            " 'bcStartDate': '24-AUG-19',\n",
            " 'buyPrice1': 79.6,\n",
            " 'buyPrice2': None,\n",
            " 'buyPrice3': None,\n",
            " 'buyPrice4': None,\n",
            " 'buyPrice5': None,\n",
            " 'buyQuantity1': 3.0,\n",
            " 'buyQuantity2': None,\n",
            " 'buyQuantity3': None,\n",
            " 'buyQuantity4': None,\n",
            " 'buyQuantity5': None,\n",
            " 'change': '-1.00',\n",
            " 'closePrice': 79.6,\n",
            " 'cm_adj_high_dt': '14-SEP-18',\n",
            " 'cm_adj_low_dt': '23-AUG-19',\n",
            " 'cm_ffm': 6824.25,\n",
            " 'companyName': 'NMDC Limited',\n",
            " 'css_status_desc': 'Listed',\n",
            " 'dayHigh': 80.5,\n",
            " 'dayLow': 78.6,\n",
            " 'deliveryQuantity': 501586.0,\n",
            " 'deliveryToTradedQuantity': 16.79,\n",
            " 'exDate': '22-AUG-19',\n",
            " 'extremeLossMargin': 5.0,\n",
            " 'faceValue': 1.0,\n",
            " 'high52': 124.4,\n",
            " 'indexVar': None,\n",
            " 'isExDateFlag': False,\n",
            " 'isinCode': 'INE584A01023',\n",
            " 'lastPrice': 79.5,\n",
            " 'low52': 74.8,\n",
            " 'marketType': 'N',\n",
            " 'ndEndDate': None,\n",
            " 'ndStartDate': None,\n",
            " 'open': 80.1,\n",
            " 'pChange': '-1.24',\n",
            " 'previousClose': 80.5,\n",
            " 'priceBand': 'No Band',\n",
            " 'pricebandlower': 72.45,\n",
            " 'pricebandupper': 88.55,\n",
            " 'purpose': 'ANNUAL GENERAL MEETING',\n",
            " 'quantityTraded': 2986873.0,\n",
            " 'recordDate': None,\n",
            " 'secDate': '04-Sep-2019 00:00:00',\n",
            " 'securityVar': 14.23,\n",
            " 'sellPrice1': None,\n",
            " 'sellPrice2': None,\n",
            " 'sellPrice3': None,\n",
            " 'sellPrice4': None,\n",
            " 'sellPrice5': None,\n",
            " 'sellQuantity1': None,\n",
            " 'sellQuantity2': None,\n",
            " 'sellQuantity3': None,\n",
            " 'sellQuantity4': None,\n",
            " 'sellQuantity5': None,\n",
            " 'series': 'EQ',\n",
            " 'surv_indicator': None,\n",
            " 'symbol': 'NMDC',\n",
            " 'totalBuyQuantity': 3.0,\n",
            " 'totalSellQuantity': None,\n",
            " 'totalTradedValue': 2377.25,\n",
            " 'totalTradedVolume': 2986873.0,\n",
            " 'varMargin': 14.23}\n"
          ],
          "name": "stdout"
        }
      ]
    }
  ]
}